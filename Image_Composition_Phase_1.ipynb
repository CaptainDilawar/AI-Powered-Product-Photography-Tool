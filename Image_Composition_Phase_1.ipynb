{
  "nbformat": 4,
  "nbformat_minor": 0,
  "metadata": {
    "colab": {
      "provenance": [],
      "gpuType": "T4",
      "authorship_tag": "ABX9TyNa07P10s3b6qA6zP7zz9ws",
      "include_colab_link": true
    },
    "kernelspec": {
      "name": "python3",
      "display_name": "Python 3"
    },
    "language_info": {
      "name": "python"
    }
  },
  "cells": [
    {
      "cell_type": "markdown",
      "metadata": {
        "id": "view-in-github",
        "colab_type": "text"
      },
      "source": [
        "<a href=\"https://colab.research.google.com/github/CaptainDilawar/AI-Powered-Product-Photography-Tool/blob/main/Image_Composition_Phase_1.ipynb\" target=\"_parent\"><img src=\"https://colab.research.google.com/assets/colab-badge.svg\" alt=\"Open In Colab\"/></a>"
      ]
    },
    {
      "cell_type": "code",
      "execution_count": null,
      "metadata": {
        "id": "2bUIrFJdEjFv"
      },
      "outputs": [],
      "source": [
        "!pip install requests rembg pillow ipywidgets onnxruntime -q\n",
        "!pip install opencv-python-headless -q\n",
        "print(\"✅ All libraries installed successfully!\")"
      ]
    },
    {
      "cell_type": "code",
      "source": [
        "import os\n",
        "import getpass\n",
        "HF_API_TOKEN = getpass.getpass('Enter your Hugging Face API Key: ')\n",
        "SCENE_GENERATION_API_URL = \"https://api-inference.huggingface.co/models/stabilityai/stable-diffusion-xl-base-1.0\"\n",
        "headers = {\"Authorization\": f\"Bearer {HF_API_TOKEN}\"}\n",
        "\n",
        "print(\"✅ API Key configured.\")"
      ],
      "metadata": {
        "id": "b5tfkCRkErCr"
      },
      "execution_count": null,
      "outputs": []
    },
    {
      "cell_type": "code",
      "source": [
        "import ipywidgets as widgets\n",
        "from IPython.display import display\n",
        "import io\n",
        "from PIL import Image\n",
        "uploader = widgets.FileUpload(\n",
        "    accept='image/*',  # Allow any image type\n",
        "    multiple=False    # We only want one file\n",
        ")\n",
        "prompt_text = widgets.Text(\n",
        "    value='A product on a marble kitchen counter, professional studio lighting',\n",
        "    placeholder='Type your scene description...',\n",
        "    description='Prompt:',\n",
        "    disabled=False,\n",
        "    layout=widgets.Layout(width='80%')\n",
        ")\n",
        "\n",
        "print(\"Please upload your product image and write a prompt for the background scene.\")\n",
        "display(uploader, prompt_text)"
      ],
      "metadata": {
        "id": "rC5Ve2AlFPRs"
      },
      "execution_count": null,
      "outputs": []
    },
    {
      "cell_type": "code",
      "source": [
        "# @title ← Run this cell to generate the final image! (Final Version with Strength Control)\n",
        "\n",
        "# Make sure to run the install cell with: !pip install opencv-python-headless -q\n",
        "import cv2\n",
        "import numpy as np\n",
        "from rembg import remove\n",
        "import requests\n",
        "from PIL import Image\n",
        "import io\n",
        "\n",
        "# --- Existing functions from your code go here ---\n",
        "# (Make sure to define SCENE_GENERATION_API_URL and headers in a previous cell)\n",
        "def sanitize_for_print(text: str) -> str: return text.encode('utf-8', 'replace').decode('utf-8')\n",
        "def engineer_prompt(user_instruction):\n",
        "    print(f\"G.R.A.I.L : Engineering a high-quality prompt from user input: '{user_instruction}'\")\n",
        "    cleaned_instruction = user_instruction.lower().replace('product', '').strip()\n",
        "    positive_template = (\"A professional photograph of {subject}, a clean empty surface with copy space in the center, soft studio lighting, highly detailed, sharp focus, 4k\")\n",
        "    negative_prompt = \"product, object, item, bottle, text, watermark, person, logo, ring, jewelry, hand\"\n",
        "    final_positive_prompt = positive_template.format(subject=cleaned_instruction)\n",
        "    print(f\"G.R.A.I.L : Final AI Positive Prompt: '{final_positive_prompt}'\")\n",
        "    print(f\"G.R.A.I.L : Final AI Negative Prompt: '{negative_prompt}'\")\n",
        "    return {\"positive\": final_positive_prompt, \"negative\": negative_prompt}\n",
        "def remove_background(image_data):\n",
        "    print(\"G.R.A.I.L : (1/3) Removing background from product...\")\n",
        "    output_bytes = remove(image_data)\n",
        "    return Image.open(io.BytesIO(output_bytes))\n",
        "def generate_scene(prompt_dict):\n",
        "    print(\"G.R.A.I.L : (2/3) Generating background scene... (This may take up to a minute)\")\n",
        "    payload = {\"inputs\": prompt_dict[\"positive\"], \"parameters\": {\"negative_prompt\": prompt_dict[\"negative\"]}}\n",
        "    response = requests.post(SCENE_GENERATION_API_URL, headers=headers, json=payload)\n",
        "    response.encoding = 'utf-8'\n",
        "    if response.status_code != 200: raise Exception(f\"Error from API: {response.text}\")\n",
        "    return Image.open(io.BytesIO(response.content))\n",
        "# --- End of existing functions ---\n",
        "\n",
        "\n",
        "# --- UPGRADED FUNCTION: Color Harmonization with Strength Control ---\n",
        "def harmonize_color(product_img, background_img, strength=0.3):\n",
        "    \"\"\"\n",
        "    Adjusts the product's color and blends it with the original to control the effect.\n",
        "    A strength of 0.0 is no effect, 1.0 is full effect.\n",
        "    \"\"\"\n",
        "    # 1. Calculate the fully harmonized color (as before)\n",
        "    product_cv = cv2.cvtColor(np.array(product_img), cv2.COLOR_RGBA2RGB)\n",
        "    background_cv = cv2.cvtColor(np.array(background_img), cv2.COLOR_RGB2BGR)\n",
        "    product_lab = cv2.cvtColor(product_cv, cv2.COLOR_RGB2LAB)\n",
        "    background_lab = cv2.cvtColor(background_cv, cv2.COLOR_BGR2LAB)\n",
        "    l_prod, a_prod, b_prod = cv2.split(product_lab)\n",
        "    l_prod = l_prod.astype(\"float\")\n",
        "    a_prod = a_prod.astype(\"float\")\n",
        "    b_prod = b_prod.astype(\"float\")\n",
        "    l_bg, a_bg, b_bg = cv2.split(background_lab)\n",
        "    (l_mean_bg, l_std_bg) = cv2.meanStdDev(l_bg)\n",
        "    (a_mean_bg, a_std_bg) = cv2.meanStdDev(a_bg)\n",
        "    (b_mean_bg, b_std_bg) = cv2.meanStdDev(b_bg)\n",
        "    (l_mean_prod, l_std_prod) = cv2.meanStdDev(l_prod)\n",
        "    (a_mean_prod, a_std_prod) = cv2.meanStdDev(a_prod)\n",
        "    (b_mean_prod, b_std_prod) = cv2.meanStdDev(b_prod)\n",
        "    l_prod -= l_mean_prod\n",
        "    a_prod -= a_mean_prod\n",
        "    b_prod -= b_mean_prod\n",
        "    l_prod = (l_std_bg / l_std_prod) * l_prod if l_std_prod > 0 else l_prod\n",
        "    a_prod = (a_std_bg / a_std_prod) * a_prod if a_std_prod > 0 else a_prod\n",
        "    b_prod = (b_std_bg / b_std_prod) * b_prod if b_std_prod > 0 else b_prod\n",
        "    l_prod += l_mean_bg\n",
        "    a_prod += a_mean_bg\n",
        "    b_prod += b_mean_bg\n",
        "    l_prod = np.clip(l_prod, 0, 255)\n",
        "    a_prod = np.clip(a_prod, 0, 255)\n",
        "    b_prod = np.clip(b_prod, 0, 255)\n",
        "    matched_lab = cv2.merge([l_prod, a_prod, b_prod])\n",
        "    matched_rgb = cv2.cvtColor(matched_lab.astype(\"uint8\"), cv2.COLOR_LAB2RGB)\n",
        "    fully_harmonized_product = Image.fromarray(matched_rgb)\n",
        "\n",
        "    # 2. --- THIS IS THE FIX ---\n",
        "    # Blend the original product color with the fully harmonized color\n",
        "    # Image.blend() takes two images and a mixing factor (alpha)\n",
        "    original_product_rgb = product_img.convert(\"RGB\")\n",
        "    blended_product = Image.blend(original_product_rgb, fully_harmonized_product, alpha=strength)\n",
        "\n",
        "    # 3. Re-apply the original alpha mask to the blended result\n",
        "    blended_product.putalpha(product_img.getchannel('A'))\n",
        "\n",
        "    return blended_product\n",
        "\n",
        "\n",
        "# --- Step 3: Composition (Calling the upgraded function) ---\n",
        "def compose_images(product_cutout, background_scene):\n",
        "    print(\"G.R.A.I.L : (3/3) Compositing image...\")\n",
        "    bg_w, bg_h = background_scene.size\n",
        "    if product_cutout.width == 0 or product_cutout.height == 0: raise ValueError(\"Background removal resulted in an empty image.\")\n",
        "    product_ratio = product_cutout.width / product_cutout.height\n",
        "    new_h = int(bg_h * 0.6)\n",
        "    new_w = int(new_h * product_ratio)\n",
        "    product_resized = product_cutout.resize((new_w, new_h), Image.LANCZOS)\n",
        "\n",
        "    # We now call harmonize_color with a specific strength.\n",
        "    # This is the \"magic knob\" you can tune!\n",
        "    print(\"      -> Applying color harmonization with 30% strength...\")\n",
        "    harmonized_product = harmonize_color(product_resized, background_scene, strength=0.3)\n",
        "\n",
        "    final_image = background_scene.copy().convert(\"RGBA\")\n",
        "    product_pos = ((bg_w - new_w) // 2, (bg_h - new_h) // 2)\n",
        "    final_image.paste(harmonized_product, product_pos, harmonized_product)\n",
        "\n",
        "    return final_image.convert(\"RGB\")\n",
        "\n",
        "\n",
        "# --- Main Execution Block ---\n",
        "try:\n",
        "    # (Your existing main block code should work fine here)\n",
        "    uploaded_file = uploader.value\n",
        "    if not uploaded_file: print(\"[ERROR] Please upload an image in Cell 3 first!\")\n",
        "    else:\n",
        "        input_image_data = list(uploaded_file.values())[0]['content']\n",
        "        user_prompt = prompt_text.value\n",
        "        engineered_prompts = engineer_prompt(user_prompt)\n",
        "        product_cutout = remove_background(input_image_data)\n",
        "        background_scene = generate_scene(engineered_prompts)\n",
        "        final_image = compose_images(product_cutout, background_scene)\n",
        "        print(\"\\n[SUCCESS] ---- Process Complete! ---- [SUCCESS]\")\n",
        "        display(final_image)\n",
        "except Exception as e:\n",
        "    sanitized_error = sanitize_for_print(str(e))\n",
        "    print(f\"[ERROR] An error occurred during the process: {sanitized_error}\")"
      ],
      "metadata": {
        "id": "1h_NFg6gFk6s"
      },
      "execution_count": null,
      "outputs": []
    },
    {
      "cell_type": "code",
      "source": [],
      "metadata": {
        "id": "11BUb7jkcgc7"
      },
      "execution_count": null,
      "outputs": []
    }
  ]
}